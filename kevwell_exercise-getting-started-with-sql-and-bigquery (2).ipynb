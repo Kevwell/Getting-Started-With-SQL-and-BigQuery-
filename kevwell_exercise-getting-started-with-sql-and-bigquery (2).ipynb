{
 "cells": [
  {
   "cell_type": "markdown",
   "id": "4c414c0e",
   "metadata": {
    "papermill": {
     "duration": 0.009604,
     "end_time": "2022-05-27T06:32:28.383373",
     "exception": false,
     "start_time": "2022-05-27T06:32:28.373769",
     "status": "completed"
    },
    "tags": []
   },
   "source": [
    "**This notebook is an exercise in the [SQL](https://www.kaggle.com/learn/intro-to-sql) course.  You can reference the tutorial at [this link](https://www.kaggle.com/dansbecker/getting-started-with-sql-and-bigquery).**\n",
    "\n",
    "---\n"
   ]
  },
  {
   "cell_type": "markdown",
   "id": "84b0a3b2",
   "metadata": {
    "papermill": {
     "duration": 0.005719,
     "end_time": "2022-05-27T06:32:28.395279",
     "exception": false,
     "start_time": "2022-05-27T06:32:28.389560",
     "status": "completed"
    },
    "tags": []
   },
   "source": [
    "# Introduction\n",
    "\n",
    "The first test of your new data exploration skills uses data describing crime in the city of Chicago.\n",
    "\n",
    "Before you get started, run the following cell. It sets up the automated feedback system to review your answers."
   ]
  },
  {
   "cell_type": "code",
   "execution_count": 1,
   "id": "dcc250c3",
   "metadata": {
    "execution": {
     "iopub.execute_input": "2022-05-27T06:32:28.411029Z",
     "iopub.status.busy": "2022-05-27T06:32:28.409589Z",
     "iopub.status.idle": "2022-05-27T06:32:29.176228Z",
     "shell.execute_reply": "2022-05-27T06:32:29.174984Z"
    },
    "papermill": {
     "duration": 0.777418,
     "end_time": "2022-05-27T06:32:29.178760",
     "exception": false,
     "start_time": "2022-05-27T06:32:28.401342",
     "status": "completed"
    },
    "tags": []
   },
   "outputs": [
    {
     "name": "stdout",
     "output_type": "stream",
     "text": [
      "Using Kaggle's public dataset BigQuery integration.\n",
      "Setup Complete\n"
     ]
    }
   ],
   "source": [
    "# Set up feedack system\n",
    "from learntools.core import binder\n",
    "binder.bind(globals())\n",
    "from learntools.sql.ex1 import *\n",
    "print(\"Setup Complete\")"
   ]
  },
  {
   "cell_type": "markdown",
   "id": "ebd85e76",
   "metadata": {
    "papermill": {
     "duration": 0.006143,
     "end_time": "2022-05-27T06:32:29.191145",
     "exception": false,
     "start_time": "2022-05-27T06:32:29.185002",
     "status": "completed"
    },
    "tags": []
   },
   "source": [
    "Use the next code cell to fetch the dataset."
   ]
  },
  {
   "cell_type": "code",
   "execution_count": 2,
   "id": "445d6eab",
   "metadata": {
    "execution": {
     "iopub.execute_input": "2022-05-27T06:32:29.205769Z",
     "iopub.status.busy": "2022-05-27T06:32:29.204843Z",
     "iopub.status.idle": "2022-05-27T06:32:29.472870Z",
     "shell.execute_reply": "2022-05-27T06:32:29.471788Z"
    },
    "papermill": {
     "duration": 0.27812,
     "end_time": "2022-05-27T06:32:29.475569",
     "exception": false,
     "start_time": "2022-05-27T06:32:29.197449",
     "status": "completed"
    },
    "tags": []
   },
   "outputs": [
    {
     "name": "stdout",
     "output_type": "stream",
     "text": [
      "Using Kaggle's public dataset BigQuery integration.\n"
     ]
    }
   ],
   "source": [
    "from google.cloud import bigquery\n",
    "\n",
    "# Create a \"Client\" object\n",
    "client = bigquery.Client()\n",
    "\n",
    "# Construct a reference to the \"chicago_crime\" dataset\n",
    "dataset_ref = client.dataset(\"chicago_crime\", project=\"bigquery-public-data\")\n",
    "\n",
    "# API request - fetch the dataset\n",
    "dataset = client.get_dataset(dataset_ref)"
   ]
  },
  {
   "cell_type": "markdown",
   "id": "89685245",
   "metadata": {
    "papermill": {
     "duration": 0.006266,
     "end_time": "2022-05-27T06:32:29.488561",
     "exception": false,
     "start_time": "2022-05-27T06:32:29.482295",
     "status": "completed"
    },
    "tags": []
   },
   "source": [
    "# Exercises\n",
    "\n",
    "### 1) Count tables in the dataset\n",
    "\n",
    "How many tables are in the Chicago Crime dataset?"
   ]
  },
  {
   "cell_type": "code",
   "execution_count": 3,
   "id": "649096bb",
   "metadata": {
    "execution": {
     "iopub.execute_input": "2022-05-27T06:32:29.503453Z",
     "iopub.status.busy": "2022-05-27T06:32:29.503057Z",
     "iopub.status.idle": "2022-05-27T06:32:29.700165Z",
     "shell.execute_reply": "2022-05-27T06:32:29.698897Z"
    },
    "papermill": {
     "duration": 0.207542,
     "end_time": "2022-05-27T06:32:29.702596",
     "exception": false,
     "start_time": "2022-05-27T06:32:29.495054",
     "status": "completed"
    },
    "tags": []
   },
   "outputs": [
    {
     "name": "stdout",
     "output_type": "stream",
     "text": [
      "crime\n"
     ]
    }
   ],
   "source": [
    "# Write the code you need here to figure out the answer\n",
    "\n",
    "# List all the tables in the \"Chicago Crime\" dataset\n",
    "tables = list(client.list_tables(dataset))\n",
    "\n",
    "# Print names of all tables in the dataset \n",
    "for table in tables:  \n",
    "    print(table.table_id)"
   ]
  },
  {
   "cell_type": "code",
   "execution_count": 4,
   "id": "f5218780",
   "metadata": {
    "execution": {
     "iopub.execute_input": "2022-05-27T06:32:29.718201Z",
     "iopub.status.busy": "2022-05-27T06:32:29.717796Z",
     "iopub.status.idle": "2022-05-27T06:32:29.729650Z",
     "shell.execute_reply": "2022-05-27T06:32:29.728451Z"
    },
    "papermill": {
     "duration": 0.02242,
     "end_time": "2022-05-27T06:32:29.731810",
     "exception": false,
     "start_time": "2022-05-27T06:32:29.709390",
     "status": "completed"
    },
    "tags": []
   },
   "outputs": [
    {
     "data": {
      "application/javascript": [
       "parent.postMessage({\"jupyterEvent\": \"custom.exercise_interaction\", \"data\": {\"outcomeType\": 1, \"valueTowardsCompletion\": 0.3333333333333333, \"interactionType\": 1, \"questionType\": 1, \"questionId\": \"1_CountTables\", \"learnToolsVersion\": \"0.3.4\", \"failureMessage\": \"\", \"exceptionClass\": \"\", \"trace\": \"\"}}, \"*\")"
      ],
      "text/plain": [
       "<IPython.core.display.Javascript object>"
      ]
     },
     "metadata": {},
     "output_type": "display_data"
    },
    {
     "data": {
      "text/markdown": [
       "<span style=\"color:#33cc33\">Correct</span>"
      ],
      "text/plain": [
       "Correct"
      ]
     },
     "metadata": {},
     "output_type": "display_data"
    }
   ],
   "source": [
    "num_tables = 1   # Store the answer as num_tables and then run this cell\n",
    "\n",
    "# Check your answer\n",
    "q_1.check()"
   ]
  },
  {
   "cell_type": "markdown",
   "id": "94d3796f",
   "metadata": {
    "papermill": {
     "duration": 0.006752,
     "end_time": "2022-05-27T06:32:29.745642",
     "exception": false,
     "start_time": "2022-05-27T06:32:29.738890",
     "status": "completed"
    },
    "tags": []
   },
   "source": [
    "For a hint or the solution, uncomment the appropriate line below."
   ]
  },
  {
   "cell_type": "code",
   "execution_count": 5,
   "id": "38a0230a",
   "metadata": {
    "execution": {
     "iopub.execute_input": "2022-05-27T06:32:29.761627Z",
     "iopub.status.busy": "2022-05-27T06:32:29.761013Z",
     "iopub.status.idle": "2022-05-27T06:32:29.764708Z",
     "shell.execute_reply": "2022-05-27T06:32:29.763621Z"
    },
    "papermill": {
     "duration": 0.014368,
     "end_time": "2022-05-27T06:32:29.767015",
     "exception": false,
     "start_time": "2022-05-27T06:32:29.752647",
     "status": "completed"
    },
    "tags": []
   },
   "outputs": [],
   "source": [
    "#q_1.hint()\n",
    "#q_1.solution()"
   ]
  },
  {
   "cell_type": "markdown",
   "id": "31fa6219",
   "metadata": {
    "papermill": {
     "duration": 0.006754,
     "end_time": "2022-05-27T06:32:29.781056",
     "exception": false,
     "start_time": "2022-05-27T06:32:29.774302",
     "status": "completed"
    },
    "tags": []
   },
   "source": [
    "### 2) Explore the table schema\n",
    "\n",
    "How many columns in the `crime` table have `TIMESTAMP` data?"
   ]
  },
  {
   "cell_type": "code",
   "execution_count": 6,
   "id": "6da2a0d6",
   "metadata": {
    "execution": {
     "iopub.execute_input": "2022-05-27T06:32:29.797313Z",
     "iopub.status.busy": "2022-05-27T06:32:29.796553Z",
     "iopub.status.idle": "2022-05-27T06:32:30.015929Z",
     "shell.execute_reply": "2022-05-27T06:32:30.014885Z"
    },
    "papermill": {
     "duration": 0.234781,
     "end_time": "2022-05-27T06:32:30.022814",
     "exception": false,
     "start_time": "2022-05-27T06:32:29.788033",
     "status": "completed"
    },
    "tags": []
   },
   "outputs": [
    {
     "name": "stdout",
     "output_type": "stream",
     "text": [
      "[SchemaField('unique_key', 'INTEGER', 'REQUIRED', None, (), None), SchemaField('case_number', 'STRING', 'NULLABLE', None, (), None), SchemaField('date', 'TIMESTAMP', 'NULLABLE', None, (), None), SchemaField('block', 'STRING', 'NULLABLE', None, (), None), SchemaField('iucr', 'STRING', 'NULLABLE', None, (), None), SchemaField('primary_type', 'STRING', 'NULLABLE', None, (), None), SchemaField('description', 'STRING', 'NULLABLE', None, (), None), SchemaField('location_description', 'STRING', 'NULLABLE', None, (), None), SchemaField('arrest', 'BOOLEAN', 'NULLABLE', None, (), None), SchemaField('domestic', 'BOOLEAN', 'NULLABLE', None, (), None), SchemaField('beat', 'INTEGER', 'NULLABLE', None, (), None), SchemaField('district', 'INTEGER', 'NULLABLE', None, (), None), SchemaField('ward', 'INTEGER', 'NULLABLE', None, (), None), SchemaField('community_area', 'INTEGER', 'NULLABLE', None, (), None), SchemaField('fbi_code', 'STRING', 'NULLABLE', None, (), None), SchemaField('x_coordinate', 'FLOAT', 'NULLABLE', None, (), None), SchemaField('y_coordinate', 'FLOAT', 'NULLABLE', None, (), None), SchemaField('year', 'INTEGER', 'NULLABLE', None, (), None), SchemaField('updated_on', 'TIMESTAMP', 'NULLABLE', None, (), None), SchemaField('latitude', 'FLOAT', 'NULLABLE', None, (), None), SchemaField('longitude', 'FLOAT', 'NULLABLE', None, (), None), SchemaField('location', 'STRING', 'NULLABLE', None, (), None)]\n"
     ]
    }
   ],
   "source": [
    "# Write the code to figure out the answer\n",
    "\n",
    "# Construct a reference to the \"full\" table\n",
    "table_ref = dataset_ref.table(\"crime\")\n",
    "\n",
    "# API request - fetch the table\n",
    "table = client.get_table(table_ref)\n",
    "\n",
    "# Print information on all the columns in the \"crime\" table in the \"chicago_crime\" dataset\n",
    "print(table.schema)\n"
   ]
  },
  {
   "cell_type": "code",
   "execution_count": 7,
   "id": "83e8b011",
   "metadata": {
    "execution": {
     "iopub.execute_input": "2022-05-27T06:32:30.041333Z",
     "iopub.status.busy": "2022-05-27T06:32:30.040672Z",
     "iopub.status.idle": "2022-05-27T06:32:30.047249Z",
     "shell.execute_reply": "2022-05-27T06:32:30.046582Z"
    },
    "papermill": {
     "duration": 0.017539,
     "end_time": "2022-05-27T06:32:30.049107",
     "exception": false,
     "start_time": "2022-05-27T06:32:30.031568",
     "status": "completed"
    },
    "tags": []
   },
   "outputs": [
    {
     "data": {
      "application/javascript": [
       "parent.postMessage({\"jupyterEvent\": \"custom.exercise_interaction\", \"data\": {\"outcomeType\": 1, \"valueTowardsCompletion\": 0.3333333333333333, \"interactionType\": 1, \"questionType\": 1, \"questionId\": \"2_CountTimestampFields\", \"learnToolsVersion\": \"0.3.4\", \"failureMessage\": \"\", \"exceptionClass\": \"\", \"trace\": \"\"}}, \"*\")"
      ],
      "text/plain": [
       "<IPython.core.display.Javascript object>"
      ]
     },
     "metadata": {},
     "output_type": "display_data"
    },
    {
     "data": {
      "text/markdown": [
       "<span style=\"color:#33cc33\">Correct</span>"
      ],
      "text/plain": [
       "Correct"
      ]
     },
     "metadata": {},
     "output_type": "display_data"
    }
   ],
   "source": [
    "num_timestamp_fields = 2 # Put your answer here\n",
    "\n",
    "# Check your answer\n",
    "q_2.check()"
   ]
  },
  {
   "cell_type": "markdown",
   "id": "269c58b6",
   "metadata": {
    "papermill": {
     "duration": 0.007379,
     "end_time": "2022-05-27T06:32:30.063777",
     "exception": false,
     "start_time": "2022-05-27T06:32:30.056398",
     "status": "completed"
    },
    "tags": []
   },
   "source": [
    "For a hint or the solution, uncomment the appropriate line below."
   ]
  },
  {
   "cell_type": "code",
   "execution_count": 8,
   "id": "ec342370",
   "metadata": {
    "execution": {
     "iopub.execute_input": "2022-05-27T06:32:30.080293Z",
     "iopub.status.busy": "2022-05-27T06:32:30.079882Z",
     "iopub.status.idle": "2022-05-27T06:32:30.083420Z",
     "shell.execute_reply": "2022-05-27T06:32:30.082601Z"
    },
    "papermill": {
     "duration": 0.014017,
     "end_time": "2022-05-27T06:32:30.085306",
     "exception": false,
     "start_time": "2022-05-27T06:32:30.071289",
     "status": "completed"
    },
    "tags": []
   },
   "outputs": [],
   "source": [
    "# q_2.hint()\n",
    "# q_2.solution()"
   ]
  },
  {
   "cell_type": "markdown",
   "id": "5b8675a2",
   "metadata": {
    "papermill": {
     "duration": 0.007365,
     "end_time": "2022-05-27T06:32:30.100137",
     "exception": false,
     "start_time": "2022-05-27T06:32:30.092772",
     "status": "completed"
    },
    "tags": []
   },
   "source": [
    "### 3) Create a crime map\n",
    "\n",
    "If you wanted to create a map with a dot at the location of each crime, what are the names of the two fields you likely need to pull out of the `crime` table to plot the crimes on a map?"
   ]
  },
  {
   "cell_type": "code",
   "execution_count": 9,
   "id": "ddfb49fb",
   "metadata": {
    "execution": {
     "iopub.execute_input": "2022-05-27T06:32:30.117306Z",
     "iopub.status.busy": "2022-05-27T06:32:30.116654Z",
     "iopub.status.idle": "2022-05-27T06:32:30.120826Z",
     "shell.execute_reply": "2022-05-27T06:32:30.119747Z"
    },
    "papermill": {
     "duration": 0.015323,
     "end_time": "2022-05-27T06:32:30.123012",
     "exception": false,
     "start_time": "2022-05-27T06:32:30.107689",
     "status": "completed"
    },
    "tags": []
   },
   "outputs": [],
   "source": [
    "# Write the code here to explore the data so you can find the answer\n"
   ]
  },
  {
   "cell_type": "code",
   "execution_count": 10,
   "id": "bc8bb38c",
   "metadata": {
    "execution": {
     "iopub.execute_input": "2022-05-27T06:32:30.139926Z",
     "iopub.status.busy": "2022-05-27T06:32:30.139271Z",
     "iopub.status.idle": "2022-05-27T06:32:30.145996Z",
     "shell.execute_reply": "2022-05-27T06:32:30.145238Z"
    },
    "papermill": {
     "duration": 0.017244,
     "end_time": "2022-05-27T06:32:30.147831",
     "exception": false,
     "start_time": "2022-05-27T06:32:30.130587",
     "status": "completed"
    },
    "tags": []
   },
   "outputs": [
    {
     "data": {
      "application/javascript": [
       "parent.postMessage({\"jupyterEvent\": \"custom.exercise_interaction\", \"data\": {\"outcomeType\": 1, \"valueTowardsCompletion\": 0.3333333333333333, \"interactionType\": 1, \"questionType\": 2, \"questionId\": \"3_IdentifyFieldsForPlotting\", \"learnToolsVersion\": \"0.3.4\", \"failureMessage\": \"\", \"exceptionClass\": \"\", \"trace\": \"\"}}, \"*\")"
      ],
      "text/plain": [
       "<IPython.core.display.Javascript object>"
      ]
     },
     "metadata": {},
     "output_type": "display_data"
    },
    {
     "data": {
      "text/markdown": [
       "<span style=\"color:#33cc33\">Correct</span>"
      ],
      "text/plain": [
       "Correct"
      ]
     },
     "metadata": {},
     "output_type": "display_data"
    }
   ],
   "source": [
    "fields_for_plotting = ['latitude', 'longitude'] # Put your answers here\n",
    "\n",
    "# Check your answer\n",
    "q_3.check()"
   ]
  },
  {
   "cell_type": "markdown",
   "id": "203b0b77",
   "metadata": {
    "papermill": {
     "duration": 0.00719,
     "end_time": "2022-05-27T06:32:30.162563",
     "exception": false,
     "start_time": "2022-05-27T06:32:30.155373",
     "status": "completed"
    },
    "tags": []
   },
   "source": [
    "For a hint or the solution, uncomment the appropriate line below."
   ]
  },
  {
   "cell_type": "code",
   "execution_count": 11,
   "id": "0953d748",
   "metadata": {
    "execution": {
     "iopub.execute_input": "2022-05-27T06:32:30.179804Z",
     "iopub.status.busy": "2022-05-27T06:32:30.179150Z",
     "iopub.status.idle": "2022-05-27T06:32:30.182672Z",
     "shell.execute_reply": "2022-05-27T06:32:30.182025Z"
    },
    "papermill": {
     "duration": 0.015259,
     "end_time": "2022-05-27T06:32:30.185485",
     "exception": false,
     "start_time": "2022-05-27T06:32:30.170226",
     "status": "completed"
    },
    "tags": []
   },
   "outputs": [],
   "source": [
    "#q_3.hint()\n",
    "#q_3.solution()"
   ]
  },
  {
   "cell_type": "markdown",
   "id": "4947b4ac",
   "metadata": {
    "papermill": {
     "duration": 0.007606,
     "end_time": "2022-05-27T06:32:30.203758",
     "exception": false,
     "start_time": "2022-05-27T06:32:30.196152",
     "status": "completed"
    },
    "tags": []
   },
   "source": [
    "Thinking about the question above, there are a few columns that appear to have geographic data. Look at a few values (with the `list_rows()` command) to see if you can determine their relationship.  Two columns will still be hard to interpret. But it should be obvious how the `location` column relates to `latitude` and `longitude`."
   ]
  },
  {
   "cell_type": "code",
   "execution_count": 12,
   "id": "b025c5e3",
   "metadata": {
    "execution": {
     "iopub.execute_input": "2022-05-27T06:32:30.222084Z",
     "iopub.status.busy": "2022-05-27T06:32:30.221407Z",
     "iopub.status.idle": "2022-05-27T06:32:31.005176Z",
     "shell.execute_reply": "2022-05-27T06:32:31.004076Z"
    },
    "papermill": {
     "duration": 0.796788,
     "end_time": "2022-05-27T06:32:31.008367",
     "exception": false,
     "start_time": "2022-05-27T06:32:30.211579",
     "status": "completed"
    },
    "tags": []
   },
   "outputs": [
    {
     "name": "stderr",
     "output_type": "stream",
     "text": [
      "/opt/conda/lib/python3.7/site-packages/ipykernel_launcher.py:3: UserWarning: Cannot use bqstorage_client if max_results is set, reverting to fetching data with the tabledata.list endpoint.\n",
      "  This is separate from the ipykernel package so we can avoid doing imports until\n"
     ]
    },
    {
     "data": {
      "text/html": [
       "<div>\n",
       "<style scoped>\n",
       "    .dataframe tbody tr th:only-of-type {\n",
       "        vertical-align: middle;\n",
       "    }\n",
       "\n",
       "    .dataframe tbody tr th {\n",
       "        vertical-align: top;\n",
       "    }\n",
       "\n",
       "    .dataframe thead th {\n",
       "        text-align: right;\n",
       "    }\n",
       "</style>\n",
       "<table border=\"1\" class=\"dataframe\">\n",
       "  <thead>\n",
       "    <tr style=\"text-align: right;\">\n",
       "      <th></th>\n",
       "      <th>unique_key</th>\n",
       "      <th>case_number</th>\n",
       "      <th>date</th>\n",
       "      <th>block</th>\n",
       "      <th>iucr</th>\n",
       "      <th>primary_type</th>\n",
       "      <th>description</th>\n",
       "      <th>location_description</th>\n",
       "      <th>arrest</th>\n",
       "      <th>domestic</th>\n",
       "      <th>...</th>\n",
       "      <th>ward</th>\n",
       "      <th>community_area</th>\n",
       "      <th>fbi_code</th>\n",
       "      <th>x_coordinate</th>\n",
       "      <th>y_coordinate</th>\n",
       "      <th>year</th>\n",
       "      <th>updated_on</th>\n",
       "      <th>latitude</th>\n",
       "      <th>longitude</th>\n",
       "      <th>location</th>\n",
       "    </tr>\n",
       "  </thead>\n",
       "  <tbody>\n",
       "    <tr>\n",
       "      <th>0</th>\n",
       "      <td>10169505</td>\n",
       "      <td>HY357733</td>\n",
       "      <td>2015-07-25 06:00:00+00:00</td>\n",
       "      <td>107XX S AVENUE O</td>\n",
       "      <td>1305</td>\n",
       "      <td>CRIMINAL DAMAGE</td>\n",
       "      <td>CRIMINAL DEFACEMENT</td>\n",
       "      <td>RESIDENCE</td>\n",
       "      <td>False</td>\n",
       "      <td>False</td>\n",
       "      <td>...</td>\n",
       "      <td>10</td>\n",
       "      <td>52</td>\n",
       "      <td>14</td>\n",
       "      <td>1200873.0</td>\n",
       "      <td>1834449.0</td>\n",
       "      <td>2015</td>\n",
       "      <td>2018-02-10 03:50:01+00:00</td>\n",
       "      <td>41.700493</td>\n",
       "      <td>-87.540088</td>\n",
       "      <td>(41.700493209, -87.54008842)</td>\n",
       "    </tr>\n",
       "    <tr>\n",
       "      <th>1</th>\n",
       "      <td>10183315</td>\n",
       "      <td>HY369831</td>\n",
       "      <td>2015-08-05 10:50:00+00:00</td>\n",
       "      <td>091XX S MARQUETTE AVE</td>\n",
       "      <td>0496</td>\n",
       "      <td>BATTERY</td>\n",
       "      <td>AGGRAVATED DOMESTIC BATTERY: KNIFE/CUTTING INST</td>\n",
       "      <td>RESIDENCE</td>\n",
       "      <td>False</td>\n",
       "      <td>False</td>\n",
       "      <td>...</td>\n",
       "      <td>7</td>\n",
       "      <td>48</td>\n",
       "      <td>04B</td>\n",
       "      <td>1195850.0</td>\n",
       "      <td>1844747.0</td>\n",
       "      <td>2015</td>\n",
       "      <td>2018-02-10 03:50:01+00:00</td>\n",
       "      <td>41.728877</td>\n",
       "      <td>-87.558141</td>\n",
       "      <td>(41.728877368, -87.558140854)</td>\n",
       "    </tr>\n",
       "    <tr>\n",
       "      <th>2</th>\n",
       "      <td>10208896</td>\n",
       "      <td>HY396074</td>\n",
       "      <td>2015-08-24 09:00:00+00:00</td>\n",
       "      <td>110XX S DRAKE AVE</td>\n",
       "      <td>1220</td>\n",
       "      <td>DECEPTIVE PRACTICE</td>\n",
       "      <td>THEFT OF LOST/MISLAID PROP</td>\n",
       "      <td>STREET</td>\n",
       "      <td>True</td>\n",
       "      <td>False</td>\n",
       "      <td>...</td>\n",
       "      <td>19</td>\n",
       "      <td>74</td>\n",
       "      <td>11</td>\n",
       "      <td>1154657.0</td>\n",
       "      <td>1831070.0</td>\n",
       "      <td>2015</td>\n",
       "      <td>2018-02-10 03:50:01+00:00</td>\n",
       "      <td>41.692264</td>\n",
       "      <td>-87.709404</td>\n",
       "      <td>(41.692264108, -87.709403981)</td>\n",
       "    </tr>\n",
       "    <tr>\n",
       "      <th>3</th>\n",
       "      <td>10345863</td>\n",
       "      <td>HY537009</td>\n",
       "      <td>2015-12-09 07:15:00+00:00</td>\n",
       "      <td>089XX S CORNELL AVE</td>\n",
       "      <td>1155</td>\n",
       "      <td>DECEPTIVE PRACTICE</td>\n",
       "      <td>AGGRAVATED FINANCIAL IDENTITY THEFT</td>\n",
       "      <td>RESIDENCE</td>\n",
       "      <td>False</td>\n",
       "      <td>False</td>\n",
       "      <td>...</td>\n",
       "      <td>8</td>\n",
       "      <td>48</td>\n",
       "      <td>11</td>\n",
       "      <td>1188800.0</td>\n",
       "      <td>1845951.0</td>\n",
       "      <td>2015</td>\n",
       "      <td>2018-02-10 03:50:01+00:00</td>\n",
       "      <td>41.732353</td>\n",
       "      <td>-87.583928</td>\n",
       "      <td>(41.732352593, -87.583927826)</td>\n",
       "    </tr>\n",
       "    <tr>\n",
       "      <th>4</th>\n",
       "      <td>10357782</td>\n",
       "      <td>HY548761</td>\n",
       "      <td>2015-12-23 08:00:00+00:00</td>\n",
       "      <td>105XX S HOMAN AVE</td>\n",
       "      <td>1305</td>\n",
       "      <td>CRIMINAL DAMAGE</td>\n",
       "      <td>CRIMINAL DEFACEMENT</td>\n",
       "      <td>RESIDENCE</td>\n",
       "      <td>False</td>\n",
       "      <td>False</td>\n",
       "      <td>...</td>\n",
       "      <td>19</td>\n",
       "      <td>74</td>\n",
       "      <td>14</td>\n",
       "      <td>1155536.0</td>\n",
       "      <td>1834580.0</td>\n",
       "      <td>2015</td>\n",
       "      <td>2018-02-10 03:50:01+00:00</td>\n",
       "      <td>41.701879</td>\n",
       "      <td>-87.706092</td>\n",
       "      <td>(41.701878694, -87.706092204)</td>\n",
       "    </tr>\n",
       "  </tbody>\n",
       "</table>\n",
       "<p>5 rows × 22 columns</p>\n",
       "</div>"
      ],
      "text/plain": [
       "   unique_key case_number                      date                  block  \\\n",
       "0    10169505    HY357733 2015-07-25 06:00:00+00:00       107XX S AVENUE O   \n",
       "1    10183315    HY369831 2015-08-05 10:50:00+00:00  091XX S MARQUETTE AVE   \n",
       "2    10208896    HY396074 2015-08-24 09:00:00+00:00      110XX S DRAKE AVE   \n",
       "3    10345863    HY537009 2015-12-09 07:15:00+00:00    089XX S CORNELL AVE   \n",
       "4    10357782    HY548761 2015-12-23 08:00:00+00:00      105XX S HOMAN AVE   \n",
       "\n",
       "   iucr        primary_type                                      description  \\\n",
       "0  1305     CRIMINAL DAMAGE                              CRIMINAL DEFACEMENT   \n",
       "1  0496             BATTERY  AGGRAVATED DOMESTIC BATTERY: KNIFE/CUTTING INST   \n",
       "2  1220  DECEPTIVE PRACTICE                       THEFT OF LOST/MISLAID PROP   \n",
       "3  1155  DECEPTIVE PRACTICE              AGGRAVATED FINANCIAL IDENTITY THEFT   \n",
       "4  1305     CRIMINAL DAMAGE                              CRIMINAL DEFACEMENT   \n",
       "\n",
       "  location_description  arrest  domestic  ...  ward  community_area  fbi_code  \\\n",
       "0            RESIDENCE   False     False  ...    10              52        14   \n",
       "1            RESIDENCE   False     False  ...     7              48       04B   \n",
       "2               STREET    True     False  ...    19              74        11   \n",
       "3            RESIDENCE   False     False  ...     8              48        11   \n",
       "4            RESIDENCE   False     False  ...    19              74        14   \n",
       "\n",
       "   x_coordinate y_coordinate  year                updated_on   latitude  \\\n",
       "0     1200873.0    1834449.0  2015 2018-02-10 03:50:01+00:00  41.700493   \n",
       "1     1195850.0    1844747.0  2015 2018-02-10 03:50:01+00:00  41.728877   \n",
       "2     1154657.0    1831070.0  2015 2018-02-10 03:50:01+00:00  41.692264   \n",
       "3     1188800.0    1845951.0  2015 2018-02-10 03:50:01+00:00  41.732353   \n",
       "4     1155536.0    1834580.0  2015 2018-02-10 03:50:01+00:00  41.701879   \n",
       "\n",
       "   longitude                       location  \n",
       "0 -87.540088   (41.700493209, -87.54008842)  \n",
       "1 -87.558141  (41.728877368, -87.558140854)  \n",
       "2 -87.709404  (41.692264108, -87.709403981)  \n",
       "3 -87.583928  (41.732352593, -87.583927826)  \n",
       "4 -87.706092  (41.701878694, -87.706092204)  \n",
       "\n",
       "[5 rows x 22 columns]"
      ]
     },
     "execution_count": 12,
     "metadata": {},
     "output_type": "execute_result"
    }
   ],
   "source": [
    "# Scratch space for your code\n",
    "\n",
    "client.list_rows(table, max_results=5).to_dataframe()"
   ]
  },
  {
   "cell_type": "markdown",
   "id": "8261167a",
   "metadata": {
    "papermill": {
     "duration": 0.008011,
     "end_time": "2022-05-27T06:32:31.024891",
     "exception": false,
     "start_time": "2022-05-27T06:32:31.016880",
     "status": "completed"
    },
    "tags": []
   },
   "source": [
    "# Keep going\n",
    "\n",
    "You've looked at the schema, but you haven't yet done anything exciting with the data itself. Things get more interesting when you get to the data, so keep going to **[write your first SQL query](https://www.kaggle.com/dansbecker/select-from-where).**"
   ]
  },
  {
   "cell_type": "markdown",
   "id": "daa34f95",
   "metadata": {
    "papermill": {
     "duration": 0.011098,
     "end_time": "2022-05-27T06:32:31.044471",
     "exception": false,
     "start_time": "2022-05-27T06:32:31.033373",
     "status": "completed"
    },
    "tags": []
   },
   "source": [
    "---\n",
    "\n",
    "\n",
    "\n",
    "\n",
    "*Have questions or comments? Visit the [course discussion forum](https://www.kaggle.com/learn/intro-to-sql/discussion) to chat with other learners.*"
   ]
  }
 ],
 "metadata": {
  "kernelspec": {
   "display_name": "Python 3",
   "language": "python",
   "name": "python3"
  },
  "language_info": {
   "codemirror_mode": {
    "name": "ipython",
    "version": 3
   },
   "file_extension": ".py",
   "mimetype": "text/x-python",
   "name": "python",
   "nbconvert_exporter": "python",
   "pygments_lexer": "ipython3",
   "version": "3.7.12"
  },
  "papermill": {
   "default_parameters": {},
   "duration": 14.057423,
   "end_time": "2022-05-27T06:32:31.781655",
   "environment_variables": {},
   "exception": null,
   "input_path": "__notebook__.ipynb",
   "output_path": "__notebook__.ipynb",
   "parameters": {},
   "start_time": "2022-05-27T06:32:17.724232",
   "version": "2.3.4"
  }
 },
 "nbformat": 4,
 "nbformat_minor": 5
}
